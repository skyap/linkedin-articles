{
 "cells": [
  {
   "cell_type": "markdown",
   "metadata": {},
   "source": [
    "https://programtheblockchain.com/posts/2017/12/15/writing-a-contract-that-handles-ether/"
   ]
  },
  {
   "cell_type": "code",
   "execution_count": 1,
   "metadata": {},
   "outputs": [],
   "source": [
    "import web3\n",
    "import solcx"
   ]
  },
  {
   "cell_type": "code",
   "execution_count": 2,
   "metadata": {},
   "outputs": [
    {
     "name": "stdout",
     "output_type": "stream",
     "text": [
      "['v0.4.21', 'v0.4.25', 'v0.5.8', 'v0.6.10', 'v0.6.12', 'v0.6.9', 'v0.7.0']\n"
     ]
    }
   ],
   "source": [
    "print(solcx.get_installed_solc_versions())"
   ]
  },
  {
   "cell_type": "code",
   "execution_count": 57,
   "metadata": {},
   "outputs": [],
   "source": [
    "solcx.set_solc_version('v0.4.25')"
   ]
  },
  {
   "cell_type": "code",
   "execution_count": 55,
   "metadata": {},
   "outputs": [],
   "source": [
    "contract1 = '''\n",
    "\n",
    "contract Bank{\n",
    "    function withdraw() public {\n",
    "        msg.sender.transfer(address(this).balance);\n",
    "    }\n",
    "    function() payable public{}\n",
    "\n",
    "    function getBalance() public view returns (uint256){\n",
    "        return address(this).balance;\n",
    "    }\n",
    "    \n",
    "}\n",
    "\n",
    "'''"
   ]
  },
  {
   "cell_type": "code",
   "execution_count": 63,
   "metadata": {},
   "outputs": [],
   "source": [
    "contract2 = '''\n",
    "\n",
    "contract Bank{\n",
    "    function withdraw() public returns(uint256){\n",
    "        msg.sender.transfer(address(this).balance);\n",
    "        return 100;\n",
    "    }\n",
    "    function() payable public {}\n",
    "\n",
    "    function getBalance() public view returns (uint256){\n",
    "        return address(this).balance;\n",
    "    }\n",
    "    \n",
    "}\n",
    "\n",
    "'''"
   ]
  },
  {
   "cell_type": "code",
   "execution_count": 51,
   "metadata": {},
   "outputs": [],
   "source": [
    "contract3 = '''\n",
    "\n",
    "contract Bank{\n",
    "    function withdraw() public {\n",
    "        msg.sender.transfer(address(this).balance);\n",
    "    }\n",
    "\n",
    "    function deposit(uint256 amount) payable public{\n",
    "        require(msg.value == amount);\n",
    "    }\n",
    "    function getBalance() public view returns (uint256){\n",
    "        return address(this).balance;\n",
    "    }\n",
    "    \n",
    "}\n",
    "\n",
    "'''"
   ]
  },
  {
   "cell_type": "code",
   "execution_count": 64,
   "metadata": {},
   "outputs": [
    {
     "name": "stdout",
     "output_type": "stream",
     "text": [
      "Connection: True\n"
     ]
    }
   ],
   "source": [
    "w3 = web3.Web3(web3.EthereumTesterProvider())\n",
    "print(\"Connection:\",w3.isConnected())\n",
    "manager = w3.eth.accounts[0]\n",
    "w3.eth.defaultAccount = manager"
   ]
  },
  {
   "cell_type": "code",
   "execution_count": 65,
   "metadata": {},
   "outputs": [
    {
     "name": "stdout",
     "output_type": "stream",
     "text": [
      "0x7E5F4552091A69125d5DfCb7b8C2659029395Bdf 1000000000000000000000000\n",
      "0x2B5AD5c4795c026514f8317c7a215E218DcCD6cF 1000000000000000000000000\n",
      "0x6813Eb9362372EEF6200f3b1dbC3f819671cBA69 1000000000000000000000000\n",
      "0x1efF47bc3a10a45D4B230B5d10E37751FE6AA718 1000000000000000000000000\n",
      "0xe1AB8145F7E55DC933d51a18c793F901A3A0b276 1000000000000000000000000\n",
      "0xE57bFE9F44b819898F47BF37E5AF72a0783e1141 1000000000000000000000000\n",
      "0xd41c057fd1c78805AAC12B0A94a405c0461A6FBb 1000000000000000000000000\n",
      "0xF1F6619B38A98d6De0800F1DefC0a6399eB6d30C 1000000000000000000000000\n",
      "0xF7Edc8FA1eCc32967F827C9043FcAe6ba73afA5c 1000000000000000000000000\n",
      "0x4CCeBa2d7D2B4fdcE4304d3e09a1fea9fbEb1528 1000000000000000000000000\n"
     ]
    }
   ],
   "source": [
    "for i in w3.eth.accounts:\n",
    "    print(i,w3.eth.getBalance(i))"
   ]
  },
  {
   "cell_type": "code",
   "execution_count": 66,
   "metadata": {},
   "outputs": [
    {
     "name": "stdout",
     "output_type": "stream",
     "text": [
      "contract1_address 0xF2E246BB76DF876Cef8b38ae84130F4F55De395b\n"
     ]
    }
   ],
   "source": [
    "compiled = solcx.compile_source(contract2)\n",
    "tx_hash = w3.eth.contract(abi = compiled['<stdin>:Bank']['abi'],\n",
    "                          bytecode = compiled['<stdin>:Bank']['bin']).constructor().transact()\n",
    "tx_receipt = w3.eth.waitForTransactionReceipt(tx_hash)\n",
    "contract1_address = tx_receipt.contractAddress\n",
    "print(\"contract1_address\",contract1_address)\n",
    "contract1_contract = w3.eth.contract(address=contract1_address,abi=compiled['<stdin>:Bank']['abi'])"
   ]
  },
  {
   "cell_type": "code",
   "execution_count": 67,
   "metadata": {},
   "outputs": [
    {
     "data": {
      "text/plain": [
       "1"
      ]
     },
     "execution_count": 67,
     "metadata": {},
     "output_type": "execute_result"
    }
   ],
   "source": [
    "w3.eth.blockNumber"
   ]
  },
  {
   "cell_type": "code",
   "execution_count": 68,
   "metadata": {},
   "outputs": [
    {
     "name": "stdout",
     "output_type": "stream",
     "text": [
      "0x7E5F4552091A69125d5DfCb7b8C2659029395Bdf 999999999999999999873147\n",
      "0x2B5AD5c4795c026514f8317c7a215E218DcCD6cF 1000000000000000000000000\n",
      "0x6813Eb9362372EEF6200f3b1dbC3f819671cBA69 1000000000000000000000000\n",
      "0x1efF47bc3a10a45D4B230B5d10E37751FE6AA718 1000000000000000000000000\n",
      "0xe1AB8145F7E55DC933d51a18c793F901A3A0b276 1000000000000000000000000\n",
      "0xE57bFE9F44b819898F47BF37E5AF72a0783e1141 1000000000000000000000000\n",
      "0xd41c057fd1c78805AAC12B0A94a405c0461A6FBb 1000000000000000000000000\n",
      "0xF1F6619B38A98d6De0800F1DefC0a6399eB6d30C 1000000000000000000000000\n",
      "0xF7Edc8FA1eCc32967F827C9043FcAe6ba73afA5c 1000000000000000000000000\n",
      "0x4CCeBa2d7D2B4fdcE4304d3e09a1fea9fbEb1528 1000000000000000000000000\n"
     ]
    }
   ],
   "source": [
    "for i in w3.eth.accounts:\n",
    "    print(i,w3.eth.getBalance(i))"
   ]
  },
  {
   "cell_type": "code",
   "execution_count": 69,
   "metadata": {},
   "outputs": [
    {
     "data": {
      "text/plain": [
       "0"
      ]
     },
     "execution_count": 69,
     "metadata": {},
     "output_type": "execute_result"
    }
   ],
   "source": [
    "w3.eth.getBalance(contract1_address)"
   ]
  },
  {
   "cell_type": "code",
   "execution_count": 70,
   "metadata": {},
   "outputs": [
    {
     "data": {
      "text/plain": [
       "HexBytes('0x89ca7533328ed0c8ceeaa14722982c911fd3f3e358cb97dc9a28dd1ac399030d')"
      ]
     },
     "execution_count": 70,
     "metadata": {},
     "output_type": "execute_result"
    }
   ],
   "source": [
    "w3.eth.sendTransaction({'to': contract1_address,'from':w3.eth.accounts[1],'value': w3.toWei(1, \"ether\")})"
   ]
  },
  {
   "cell_type": "code",
   "execution_count": 26,
   "metadata": {},
   "outputs": [
    {
     "data": {
      "text/plain": [
       "1000000000000000000"
      ]
     },
     "execution_count": 26,
     "metadata": {},
     "output_type": "execute_result"
    }
   ],
   "source": [
    "w3.eth.getBalance(contract1_address)"
   ]
  },
  {
   "cell_type": "code",
   "execution_count": 71,
   "metadata": {},
   "outputs": [
    {
     "data": {
      "text/plain": [
       "2"
      ]
     },
     "execution_count": 71,
     "metadata": {},
     "output_type": "execute_result"
    }
   ],
   "source": [
    "w3.eth.blockNumber"
   ]
  },
  {
   "cell_type": "code",
   "execution_count": 72,
   "metadata": {},
   "outputs": [
    {
     "name": "stdout",
     "output_type": "stream",
     "text": [
      "0x7E5F4552091A69125d5DfCb7b8C2659029395Bdf 999999999999999999873147\n",
      "0x2B5AD5c4795c026514f8317c7a215E218DcCD6cF 999998999999999999978960\n",
      "0x6813Eb9362372EEF6200f3b1dbC3f819671cBA69 1000000000000000000000000\n",
      "0x1efF47bc3a10a45D4B230B5d10E37751FE6AA718 1000000000000000000000000\n",
      "0xe1AB8145F7E55DC933d51a18c793F901A3A0b276 1000000000000000000000000\n",
      "0xE57bFE9F44b819898F47BF37E5AF72a0783e1141 1000000000000000000000000\n",
      "0xd41c057fd1c78805AAC12B0A94a405c0461A6FBb 1000000000000000000000000\n",
      "0xF1F6619B38A98d6De0800F1DefC0a6399eB6d30C 1000000000000000000000000\n",
      "0xF7Edc8FA1eCc32967F827C9043FcAe6ba73afA5c 1000000000000000000000000\n",
      "0x4CCeBa2d7D2B4fdcE4304d3e09a1fea9fbEb1528 1000000000000000000000000\n"
     ]
    }
   ],
   "source": [
    "for i in w3.eth.accounts:\n",
    "    print(i,w3.eth.getBalance(i))"
   ]
  },
  {
   "cell_type": "code",
   "execution_count": 73,
   "metadata": {},
   "outputs": [
    {
     "data": {
      "text/plain": [
       "HexBytes('0x6fbaca8ed37e35d4b75bc14cb06618a03ebe3da44c458fa4cc6ded1f5b8d8f90')"
      ]
     },
     "execution_count": 73,
     "metadata": {},
     "output_type": "execute_result"
    }
   ],
   "source": [
    "contract1_contract.functions.withdraw().transact({'from':w3.eth.accounts[2]})"
   ]
  },
  {
   "cell_type": "code",
   "execution_count": 74,
   "metadata": {},
   "outputs": [
    {
     "name": "stdout",
     "output_type": "stream",
     "text": [
      "0x7E5F4552091A69125d5DfCb7b8C2659029395Bdf 999999999999999999873147\n",
      "0x2B5AD5c4795c026514f8317c7a215E218DcCD6cF 999998999999999999978960\n",
      "0x6813Eb9362372EEF6200f3b1dbC3f819671cBA69 1000000999999999999970504\n",
      "0x1efF47bc3a10a45D4B230B5d10E37751FE6AA718 1000000000000000000000000\n",
      "0xe1AB8145F7E55DC933d51a18c793F901A3A0b276 1000000000000000000000000\n",
      "0xE57bFE9F44b819898F47BF37E5AF72a0783e1141 1000000000000000000000000\n",
      "0xd41c057fd1c78805AAC12B0A94a405c0461A6FBb 1000000000000000000000000\n",
      "0xF1F6619B38A98d6De0800F1DefC0a6399eB6d30C 1000000000000000000000000\n",
      "0xF7Edc8FA1eCc32967F827C9043FcAe6ba73afA5c 1000000000000000000000000\n",
      "0x4CCeBa2d7D2B4fdcE4304d3e09a1fea9fbEb1528 1000000000000000000000000\n"
     ]
    }
   ],
   "source": [
    "for i in w3.eth.accounts:\n",
    "    print(i,w3.eth.getBalance(i))"
   ]
  },
  {
   "cell_type": "code",
   "execution_count": 75,
   "metadata": {},
   "outputs": [
    {
     "data": {
      "text/plain": [
       "3"
      ]
     },
     "execution_count": 75,
     "metadata": {},
     "output_type": "execute_result"
    }
   ],
   "source": [
    "w3.eth.blockNumber"
   ]
  },
  {
   "cell_type": "code",
   "execution_count": 92,
   "metadata": {},
   "outputs": [
    {
     "data": {
      "text/plain": [
       "0"
      ]
     },
     "execution_count": 92,
     "metadata": {},
     "output_type": "execute_result"
    }
   ],
   "source": [
    "w3.eth.getBalance(contract1_address)"
   ]
  },
  {
   "cell_type": "code",
   "execution_count": 93,
   "metadata": {},
   "outputs": [
    {
     "data": {
      "text/plain": [
       "HexBytes('0xa7d16a023140ea95d07e621730e76f369d6cbe8ab0296cefe0e494125014510f')"
      ]
     },
     "execution_count": 93,
     "metadata": {},
     "output_type": "execute_result"
    }
   ],
   "source": [
    "w3.eth.sendTransaction({'to': w3.eth.accounts[9],'from':w3.eth.accounts[8],'value': w3.toWei(1, \"ether\")})"
   ]
  },
  {
   "cell_type": "code",
   "execution_count": 95,
   "metadata": {},
   "outputs": [
    {
     "data": {
      "text/plain": [
       "AttributeDict({'number': 4,\n",
       " 'hash': HexBytes('0x3bc0da7ea6f2ebbd9ad4cede7b238a5d173d624fec92a0f2f4d0482e4c4f1c9e'),\n",
       " 'parentHash': HexBytes('0xbb03422c596bcd937cd5d79bc718a68bac55f09b094b3f02e3540b1efa82f87d'),\n",
       " 'nonce': HexBytes('0x0000000000000042'),\n",
       " 'sha3Uncles': HexBytes('0x1dcc4de8dec75d7aab85b567b6ccd41ad312451b948a7413f0a142fd40d49347'),\n",
       " 'logs_bloom': 0,\n",
       " 'transactionsRoot': HexBytes('0x52b8644202ca7da38a3e47604f092df5a8ea638c56c45b8cdb4ad328ad43ec46'),\n",
       " 'receipts_root': '0x056b23fbba480696b65fe5a59b8f2148a1299103c4f57df839233af2cf4ca2d2',\n",
       " 'stateRoot': HexBytes('0xd0e0bd1c7c3703ebae483847f6f97ff270baef9efcc9992fecdb74c708468e70'),\n",
       " 'miner': '0x0000000000000000000000000000000000000000',\n",
       " 'difficulty': 131328,\n",
       " 'totalDifficulty': 131328,\n",
       " 'size': 620,\n",
       " 'extraData': HexBytes('0x0000000000000000000000000000000000000000000000000000000000000000'),\n",
       " 'gasLimit': 3141592,\n",
       " 'gasUsed': 21000,\n",
       " 'timestamp': 1597717644,\n",
       " 'transactions': [HexBytes('0xa7d16a023140ea95d07e621730e76f369d6cbe8ab0296cefe0e494125014510f')],\n",
       " 'uncles': []})"
      ]
     },
     "execution_count": 95,
     "metadata": {},
     "output_type": "execute_result"
    }
   ],
   "source": [
    "w3.eth.getBlock(4)"
   ]
  },
  {
   "cell_type": "code",
   "execution_count": 94,
   "metadata": {},
   "outputs": [
    {
     "name": "stdout",
     "output_type": "stream",
     "text": [
      "0x7E5F4552091A69125d5DfCb7b8C2659029395Bdf 999999999999999999873147\n",
      "0x2B5AD5c4795c026514f8317c7a215E218DcCD6cF 999998999999999999978960\n",
      "0x6813Eb9362372EEF6200f3b1dbC3f819671cBA69 1000000999999999999970504\n",
      "0x1efF47bc3a10a45D4B230B5d10E37751FE6AA718 1000000000000000000000000\n",
      "0xe1AB8145F7E55DC933d51a18c793F901A3A0b276 1000000000000000000000000\n",
      "0xE57bFE9F44b819898F47BF37E5AF72a0783e1141 1000000000000000000000000\n",
      "0xd41c057fd1c78805AAC12B0A94a405c0461A6FBb 1000000000000000000000000\n",
      "0xF1F6619B38A98d6De0800F1DefC0a6399eB6d30C 1000000000000000000000000\n",
      "0xF7Edc8FA1eCc32967F827C9043FcAe6ba73afA5c 999998999999999999979000\n",
      "0x4CCeBa2d7D2B4fdcE4304d3e09a1fea9fbEb1528 1000001000000000000000000\n"
     ]
    }
   ],
   "source": [
    "for i in w3.eth.accounts:\n",
    "    print(i,w3.eth.getBalance(i))"
   ]
  },
  {
   "cell_type": "code",
   "execution_count": 96,
   "metadata": {},
   "outputs": [
    {
     "data": {
      "text/plain": [
       "1000000000000000000000000"
      ]
     },
     "execution_count": 96,
     "metadata": {},
     "output_type": "execute_result"
    }
   ],
   "source": [
    "w3.eth.getBlock(4).gasUsed+w3.eth.getBalance(w3.eth.accounts[8])+w3.toWei(1, \"ether\")"
   ]
  },
  {
   "cell_type": "code",
   "execution_count": null,
   "metadata": {},
   "outputs": [],
   "source": []
  }
 ],
 "metadata": {
  "kernelspec": {
   "display_name": "Python 3",
   "language": "python",
   "name": "python3"
  },
  "language_info": {
   "codemirror_mode": {
    "name": "ipython",
    "version": 3
   },
   "file_extension": ".py",
   "mimetype": "text/x-python",
   "name": "python",
   "nbconvert_exporter": "python",
   "pygments_lexer": "ipython3",
   "version": "3.8.2"
  }
 },
 "nbformat": 4,
 "nbformat_minor": 4
}
