{
 "cells": [
  {
   "cell_type": "code",
   "execution_count": 1,
   "metadata": {},
   "outputs": [],
   "source": [
    "import web3\n",
    "import solcx"
   ]
  },
  {
   "cell_type": "code",
   "execution_count": 2,
   "metadata": {},
   "outputs": [
    {
     "name": "stdout",
     "output_type": "stream",
     "text": [
      "['v0.4.21', 'v0.4.25', 'v0.5.8', 'v0.6.10', 'v0.6.12', 'v0.6.9', 'v0.7.0']\n"
     ]
    }
   ],
   "source": [
    "print(solcx.get_installed_solc_versions())"
   ]
  },
  {
   "cell_type": "code",
   "execution_count": 4,
   "metadata": {},
   "outputs": [],
   "source": [
    "solcx.set_solc_version('v0.4.25')"
   ]
  },
  {
   "cell_type": "code",
   "execution_count": null,
   "metadata": {},
   "outputs": [],
   "source": [
    "contract1 = '''\n",
    "\n",
    "contract Bank{\n",
    "    function withdraw() public {\n",
    "        msg.sender.transfer(address(this).balance);\n",
    "    }\n",
    "    function() payable public{}\n",
    "\n",
    "    function getBalance() public view returns (uint256){\n",
    "        return address(this).balance;\n",
    "    }\n",
    "    \n",
    "}\n",
    "\n",
    "'''"
   ]
  },
  {
   "cell_type": "code",
   "execution_count": null,
   "metadata": {},
   "outputs": [],
   "source": [
    "contract2 = '''\n",
    "\n",
    "contract Bank{\n",
    "    function withdraw() public {\n",
    "        msg.sender.transfer(address(this).balance);\n",
    "    }\n",
    "\n",
    "    function deposit(uint256 amount) payable public{\n",
    "        require(msg.value == amount);\n",
    "    }\n",
    "    function getBalance() public view returns (uint256){\n",
    "        return address(this).balance;\n",
    "    }\n",
    "    \n",
    "}\n",
    "\n",
    "'''"
   ]
  },
  {
   "cell_type": "code",
   "execution_count": null,
   "metadata": {},
   "outputs": [],
   "source": []
  },
  {
   "cell_type": "code",
   "execution_count": null,
   "metadata": {},
   "outputs": [],
   "source": []
  },
  {
   "cell_type": "code",
   "execution_count": null,
   "metadata": {},
   "outputs": [],
   "source": []
  },
  {
   "cell_type": "code",
   "execution_count": null,
   "metadata": {},
   "outputs": [],
   "source": []
  },
  {
   "cell_type": "code",
   "execution_count": null,
   "metadata": {},
   "outputs": [],
   "source": []
  }
 ],
 "metadata": {
  "kernelspec": {
   "display_name": "Python 3",
   "language": "python",
   "name": "python3"
  },
  "language_info": {
   "codemirror_mode": {
    "name": "ipython",
    "version": 3
   },
   "file_extension": ".py",
   "mimetype": "text/x-python",
   "name": "python",
   "nbconvert_exporter": "python",
   "pygments_lexer": "ipython3",
   "version": "3.8.2"
  }
 },
 "nbformat": 4,
 "nbformat_minor": 4
}
