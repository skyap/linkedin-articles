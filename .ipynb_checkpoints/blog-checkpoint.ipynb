{
 "cells": [
  {
   "cell_type": "code",
   "execution_count": 1,
   "metadata": {},
   "outputs": [],
   "source": [
    "import web3\n",
    "from web3 import Web3, EthereumTesterProvider\n",
    "import json\n",
    "import random\n",
    "import time\n",
    "from solcx import compile_files,get_solc_version,get_installed_solc_versions, set_solc_version, compile_source\n",
    "import os"
   ]
  },
  {
   "cell_type": "code",
   "execution_count": 2,
   "metadata": {},
   "outputs": [],
   "source": [
    "# from solcx import install_solc\n",
    "# install_solc('v0.4.25')"
   ]
  },
  {
   "cell_type": "markdown",
   "metadata": {},
   "source": [
    "solc is install at this location /home/skyap/.solcx"
   ]
  },
  {
   "cell_type": "code",
   "execution_count": 3,
   "metadata": {},
   "outputs": [
    {
     "data": {
      "text/plain": [
       "['v0.4.21', 'v0.4.25', 'v0.5.8', 'v0.6.10', 'v0.6.12', 'v0.6.9']"
      ]
     },
     "execution_count": 3,
     "metadata": {},
     "output_type": "execute_result"
    }
   ],
   "source": [
    "get_installed_solc_versions()"
   ]
  },
  {
   "cell_type": "code",
   "execution_count": 4,
   "metadata": {},
   "outputs": [],
   "source": [
    "set_solc_version('v0.4.21')"
   ]
  },
  {
   "cell_type": "markdown",
   "metadata": {},
   "source": [
    "# Connect to Eth"
   ]
  },
  {
   "cell_type": "code",
   "execution_count": 5,
   "metadata": {},
   "outputs": [
    {
     "name": "stdout",
     "output_type": "stream",
     "text": [
      "Connection: True\n"
     ]
    }
   ],
   "source": [
    "w3 = Web3(EthereumTesterProvider())\n",
    "print(\"Connection:\",w3.isConnected())\n",
    "manager = w3.eth.accounts[0]\n",
    "w3.eth.defaultAccount = manager"
   ]
  },
  {
   "cell_type": "markdown",
   "metadata": {},
   "source": [
    "# Contracts"
   ]
  },
  {
   "cell_type": "markdown",
   "metadata": {},
   "source": [
    "## Registry.sol"
   ]
  },
  {
   "cell_type": "code",
   "execution_count": 6,
   "metadata": {},
   "outputs": [],
   "source": [
    "registry = '''\n",
    "\n",
    "pragma solidity ^0.4.21;\n",
    "\n",
    "contract Registry{\n",
    "    uint public val;\n",
    "    address public logic_contract;\n",
    "\n",
    "    // admin to set contract\n",
    "    function setLogicContract(address _c) public returns (bool success){\n",
    "        logic_contract = _c;\n",
    "        return true;\n",
    "    }\n",
    "\n",
    "    // fall back function\n",
    "    function () payable public {\n",
    "\n",
    "        address target = logic_contract;\n",
    "\n",
    "        assembly {\n",
    "            // Copy the data sent to the memory address starting free mem position\n",
    "            let ptr := mload(0x40)\n",
    "            calldatacopy(ptr, 0, calldatasize)\n",
    "\n",
    "            // Proxy the call to the contract address with the provided gas and data\n",
    "            let result := delegatecall(gas, target, ptr, calldatasize, 0, 0)\n",
    "\n",
    "            // Copy the data returned by the proxied call to memory\n",
    "            let size := returndatasize\n",
    "            returndatacopy(ptr, 0, size)\n",
    "\n",
    "            // Check what the result is, return and revert accordingly\n",
    "            switch result\n",
    "            case 0 { revert(ptr, size) }\n",
    "            case 1 { return(ptr, size) }\n",
    "        }\n",
    "    }\n",
    "\n",
    "}\n",
    "\n",
    "'''"
   ]
  },
  {
   "cell_type": "markdown",
   "metadata": {},
   "source": [
    "# LogicOne.sol"
   ]
  },
  {
   "cell_type": "code",
   "execution_count": 7,
   "metadata": {},
   "outputs": [],
   "source": [
    "logicone = '''\n",
    "pragma solidity ^0.4.21;\n",
    "\n",
    "contract LogicOne {\n",
    "    uint public val;\n",
    "    function setVal(uint _val) public returns (bool success) {\n",
    "        val = 2 * _val;\n",
    "        return true;\n",
    "    }\n",
    "\n",
    "}\n",
    "'''"
   ]
  },
  {
   "cell_type": "markdown",
   "metadata": {},
   "source": [
    "# LogicTwo.sol"
   ]
  },
  {
   "cell_type": "code",
   "execution_count": 16,
   "metadata": {},
   "outputs": [],
   "source": [
    "logictwo = '''\n",
    "pragma solidity ^0.4.21;\n",
    "\n",
    "contract LogicTwo {\n",
    "    uint public val;\n",
    "    function setVal(uint _val) public returns (bool success) {\n",
    "        val = 3 * _val;\n",
    "        return true;\n",
    "    }\n",
    "\n",
    "}\n",
    "'''"
   ]
  },
  {
   "cell_type": "markdown",
   "metadata": {},
   "source": [
    "# Deploy Registry.sol"
   ]
  },
  {
   "cell_type": "code",
   "execution_count": 8,
   "metadata": {},
   "outputs": [
    {
     "name": "stdout",
     "output_type": "stream",
     "text": [
      "registry_address 0xF2E246BB76DF876Cef8b38ae84130F4F55De395b\n"
     ]
    }
   ],
   "source": [
    "compiled = compile_source(registry)\n",
    "tx_hash = w3.eth.contract(abi = compiled['<stdin>:Registry']['abi'],\n",
    "                          bytecode = compiled['<stdin>:Registry']['bin']).constructor().transact()\n",
    "tx_receipt = w3.eth.waitForTransactionReceipt(tx_hash)\n",
    "registry_address = tx_receipt.contractAddress\n",
    "print(\"registry_address\",registry_address)\n",
    "registry_contract = w3.eth.contract(address=registry_address,abi=compiled['<stdin>:Registry']['abi'])"
   ]
  },
  {
   "cell_type": "markdown",
   "metadata": {},
   "source": [
    "# Deploy LogicOne.sol"
   ]
  },
  {
   "cell_type": "code",
   "execution_count": 9,
   "metadata": {},
   "outputs": [
    {
     "name": "stdout",
     "output_type": "stream",
     "text": [
      "logicone_address 0x2946259E0334f33A064106302415aD3391BeD384\n"
     ]
    }
   ],
   "source": [
    "compiled = compile_source(logicone)\n",
    "tx_hash = w3.eth.contract(abi = compiled['<stdin>:LogicOne']['abi'],\n",
    "                          bytecode = compiled['<stdin>:LogicOne']['bin']).constructor().transact()\n",
    "tx_receipt = w3.eth.waitForTransactionReceipt(tx_hash)\n",
    "logicone_address = tx_receipt.contractAddress\n",
    "print(\"logicone_address\",logicone_address)\n",
    "logicone_contract = w3.eth.contract(address=logicone_address,abi=compiled['<stdin>:LogicOne']['abi'])"
   ]
  },
  {
   "cell_type": "markdown",
   "metadata": {},
   "source": [
    "# Register LogicOne.sol Address in Registry.sol"
   ]
  },
  {
   "cell_type": "code",
   "execution_count": 10,
   "metadata": {},
   "outputs": [
    {
     "name": "stdout",
     "output_type": "stream",
     "text": [
      "AttributeDict({'transactionHash': HexBytes('0xce1909220494fc0645455cd7e4a0c06d10c78ce5dd1bb945b3a5b6b9164a213b'), 'transactionIndex': 0, 'blockNumber': 3, 'blockHash': HexBytes('0xbdaab97cb890483318bfe33b2ed6c258f9bbd92602d85247c2bab44d0d25d6cf'), 'cumulativeGasUsed': 42594, 'gasUsed': 42594, 'contractAddress': None, 'logs': [], 'status': 1})\n"
     ]
    },
    {
     "data": {
      "text/plain": [
       "'0x2946259E0334f33A064106302415aD3391BeD384'"
      ]
     },
     "execution_count": 10,
     "metadata": {},
     "output_type": "execute_result"
    }
   ],
   "source": [
    "tx_hash = registry_contract.functions.setLogicContract(logicone_address).transact()\n",
    "tx_receipt = w3.eth.waitForTransactionReceipt(tx_hash)\n",
    "print(tx_receipt)\n",
    "registry_contract.functions.logic_contract().call()"
   ]
  },
  {
   "cell_type": "code",
   "execution_count": 11,
   "metadata": {},
   "outputs": [
    {
     "name": "stdout",
     "output_type": "stream",
     "text": [
      "val in registry 200\n",
      "val in logicone 0\n"
     ]
    }
   ],
   "source": [
    "w3.eth.sendTransaction({'to': registry_address,'data':logicone_contract.functions.setVal(100)._encode_transaction_data()})\n",
    "print(\"val in registry\",registry_contract.functions.val().call())\n",
    "print(\"val in logicone\",logicone_contract.functions.val().call())"
   ]
  },
  {
   "cell_type": "code",
   "execution_count": 12,
   "metadata": {},
   "outputs": [
    {
     "name": "stdout",
     "output_type": "stream",
     "text": [
      "val in registry 20\n",
      "val in logicone 0\n"
     ]
    }
   ],
   "source": [
    "w3.eth.sendTransaction({'to': registry_address,'data':logicone_contract.encodeABI(fn_name=\"setVal\", args=[10])})\n",
    "print(\"val in registry\",registry_contract.functions.val().call())\n",
    "print(\"val in logicone\",logicone_contract.functions.val().call())"
   ]
  },
  {
   "cell_type": "markdown",
   "metadata": {},
   "source": [
    "# Deploy LogicTwo.sol"
   ]
  },
  {
   "cell_type": "code",
   "execution_count": 17,
   "metadata": {},
   "outputs": [
    {
     "name": "stdout",
     "output_type": "stream",
     "text": [
      "logicTwo_address 0x6D411e0A54382eD43F02410Ce1c7a7c122afA6E1\n"
     ]
    }
   ],
   "source": [
    "compiled = compile_source(logictwo)\n",
    "tx_hash = w3.eth.contract(abi = compiled['<stdin>:LogicTwo']['abi'],\n",
    "                          bytecode = compiled['<stdin>:LogicTwo']['bin']).constructor().transact()\n",
    "tx_receipt = w3.eth.waitForTransactionReceipt(tx_hash)\n",
    "logictwo_address = tx_receipt.contractAddress\n",
    "print(\"logicTwo_address\",logictwo_address)\n",
    "logictwo_contract = w3.eth.contract(address=logictwo_address,abi=compiled['<stdin>:LogicTwo']['abi'])"
   ]
  },
  {
   "cell_type": "markdown",
   "metadata": {},
   "source": [
    "# Register LogicTwo.sol Address in Registry.sol"
   ]
  },
  {
   "cell_type": "code",
   "execution_count": 19,
   "metadata": {},
   "outputs": [
    {
     "name": "stdout",
     "output_type": "stream",
     "text": [
      "AttributeDict({'transactionHash': HexBytes('0xfab21016438c0cffe664e61085fa2731b18475f61394af06ad773848c9eaf45a'), 'transactionIndex': 0, 'blockNumber': 7, 'blockHash': HexBytes('0x320663fafe0e60ca398af5f681cf1a160d133f168dbdae26c713f4aa82433af7'), 'cumulativeGasUsed': 27594, 'gasUsed': 27594, 'contractAddress': None, 'logs': [], 'status': 1})\n"
     ]
    },
    {
     "data": {
      "text/plain": [
       "'0x6D411e0A54382eD43F02410Ce1c7a7c122afA6E1'"
      ]
     },
     "execution_count": 19,
     "metadata": {},
     "output_type": "execute_result"
    }
   ],
   "source": [
    "tx_hash = registry_contract.functions.setLogicContract(logictwo_address).transact()\n",
    "tx_receipt = w3.eth.waitForTransactionReceipt(tx_hash)\n",
    "print(tx_receipt)\n",
    "registry_contract.functions.logic_contract().call()"
   ]
  },
  {
   "cell_type": "code",
   "execution_count": 20,
   "metadata": {},
   "outputs": [
    {
     "name": "stdout",
     "output_type": "stream",
     "text": [
      "val in registry 300\n",
      "val in logicone 0\n"
     ]
    }
   ],
   "source": [
    "w3.eth.sendTransaction({'to': registry_address,'data':logictwo_contract.functions.setVal(100)._encode_transaction_data()})\n",
    "print(\"val in registry\",registry_contract.functions.val().call())\n",
    "print(\"val in logicone\",logictwo_contract.functions.val().call())"
   ]
  },
  {
   "cell_type": "code",
   "execution_count": 21,
   "metadata": {},
   "outputs": [
    {
     "name": "stdout",
     "output_type": "stream",
     "text": [
      "val in registry 30\n",
      "val in logicone 0\n"
     ]
    }
   ],
   "source": [
    "w3.eth.sendTransaction({'to': registry_address,'data':logictwo_contract.encodeABI(fn_name=\"setVal\", args=[10])})\n",
    "print(\"val in registry\",registry_contract.functions.val().call())\n",
    "print(\"val in logicone\",logictwo_contract.functions.val().call())"
   ]
  },
  {
   "cell_type": "code",
   "execution_count": null,
   "metadata": {},
   "outputs": [],
   "source": []
  },
  {
   "cell_type": "code",
   "execution_count": null,
   "metadata": {},
   "outputs": [],
   "source": []
  },
  {
   "cell_type": "code",
   "execution_count": null,
   "metadata": {},
   "outputs": [],
   "source": []
  }
 ],
 "metadata": {
  "kernelspec": {
   "display_name": "Python 3",
   "language": "python",
   "name": "python3"
  },
  "language_info": {
   "codemirror_mode": {
    "name": "ipython",
    "version": 3
   },
   "file_extension": ".py",
   "mimetype": "text/x-python",
   "name": "python",
   "nbconvert_exporter": "python",
   "pygments_lexer": "ipython3",
   "version": "3.8.2"
  }
 },
 "nbformat": 4,
 "nbformat_minor": 4
}
