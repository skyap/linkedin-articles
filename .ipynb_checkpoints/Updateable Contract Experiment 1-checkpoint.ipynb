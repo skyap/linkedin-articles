{
 "cells": [
  {
   "cell_type": "markdown",
   "metadata": {},
   "source": [
    "# References\n",
    "1. Upgradable Smart Contract - https://medium.com/@blockchain101/the-basics-of-upgradable-proxy-contracts-in-ethereum-479b5d3363d6  \n",
    "2. Github - https://github.com/bernardpeh/Upgradable-Proxy-Smart-Contract  \n",
    "3. what is delegatecall - https://medium.com/coinmonks/delegatecall-calling-another-contract-function-in-solidity-b579f804178c"
   ]
  },
  {
   "attachments": {
    "image.png": {
     "image/png": "[encoded data removed]"
    }
   },
   "cell_type": "markdown",
   "metadata": {},
   "source": [
    "![image.png](attachment:image.png)"
   ]
  },
  {
   "cell_type": "code",
   "execution_count": 1,
   "metadata": {},
   "outputs": [],
   "source": [
    "import web3\n",
    "from web3 import Web3\n",
    "import json\n",
    "import random\n",
    "import time\n",
    "from solcx import compile_files,get_solc_version,get_installed_solc_versions, set_solc_version\n",
    "import os"
   ]
  },
  {
   "cell_type": "code",
   "execution_count": 2,
   "metadata": {},
   "outputs": [],
   "source": [
    "# from solcx import install_solc\n",
    "# install_solc('v0.4.25')"
   ]
  },
  {
   "cell_type": "markdown",
   "metadata": {},
   "source": [
    "solc is install at this location /home/skyap/.solcx"
   ]
  },
  {
   "cell_type": "code",
   "execution_count": 2,
   "metadata": {},
   "outputs": [
    {
     "data": {
      "text/plain": [
       "['v0.4.21', 'v0.4.25', 'v0.6.10', 'v0.6.12', 'v0.6.9']"
      ]
     },
     "execution_count": 2,
     "metadata": {},
     "output_type": "execute_result"
    }
   ],
   "source": [
    "get_installed_solc_versions()"
   ]
  },
  {
   "cell_type": "code",
   "execution_count": 3,
   "metadata": {},
   "outputs": [],
   "source": [
    "set_solc_version('v0.4.25')"
   ]
  },
  {
   "cell_type": "code",
   "execution_count": 4,
   "metadata": {},
   "outputs": [
    {
     "data": {
      "text/plain": [
       "['LogicOne.sol',\n",
       " 'Storage.sol',\n",
       " 'Migrations.sol',\n",
       " 'LogicTwo.sol',\n",
       " 'Registry.sol',\n",
       " 'Ownable.sol']"
      ]
     },
     "execution_count": 4,
     "metadata": {},
     "output_type": "execute_result"
    }
   ],
   "source": [
    "os.listdir(\"./Upgradable-Proxy-Smart-Contract/contracts\")"
   ]
  },
  {
   "cell_type": "code",
   "execution_count": 5,
   "metadata": {},
   "outputs": [
    {
     "name": "stdout",
     "output_type": "stream",
     "text": [
      "Connection: True\n"
     ]
    }
   ],
   "source": [
    "url = \"http://0.0.0.0:7545\"\n",
    "w3 = Web3(Web3.HTTPProvider(url))\n",
    "print(\"Connection:\",w3.isConnected())\n",
    "andrew = w3.eth.accounts[0]\n",
    "yap = w3.eth.accounts[1]\n"
   ]
  },
  {
   "cell_type": "code",
   "execution_count": 6,
   "metadata": {},
   "outputs": [],
   "source": [
    "contracts_dir = \"./Upgradable-Proxy-Smart-Contract/contracts/\""
   ]
  },
  {
   "cell_type": "markdown",
   "metadata": {},
   "source": [
    "# CORE PACKAGE"
   ]
  },
  {
   "cell_type": "code",
   "execution_count": 7,
   "metadata": {},
   "outputs": [],
   "source": [
    "contracts_list = [\"Storage.sol\",\"Ownable.sol\",\"Registry.sol\"]"
   ]
  },
  {
   "cell_type": "code",
   "execution_count": 8,
   "metadata": {},
   "outputs": [
    {
     "name": "stdout",
     "output_type": "stream",
     "text": [
      "+--------------------------+\n",
      "| pragma solidity ^0.4.21; |\n",
      "|                          |\n",
      "| contract Storage {       |\n",
      "|     uint public val;     |\n",
      "| }                        |\n",
      "+--------------------------+\n",
      "+-----------------------------------+\n",
      "| pragma solidity ^0.4.21;          |\n",
      "|                                   |\n",
      "| contract Ownable {                |\n",
      "|                                   |\n",
      "|   address public owner;           |\n",
      "|                                   |\n",
      "|   constructor() public {          |\n",
      "|     owner = msg.sender;           |\n",
      "|   }                               |\n",
      "|                                   |\n",
      "|   modifier onlyOwner() {          |\n",
      "|     require(msg.sender == owner); |\n",
      "|     _;                            |\n",
      "|   }                               |\n",
      "|                                   |\n",
      "| }                                 |\n",
      "|                                   |\n",
      "+-----------------------------------+\n",
      "+--------------------------------------------------------------------------------------+\n",
      "| pragma solidity ^0.4.21;                                                             |\n",
      "|                                                                                      |\n",
      "| import './Ownable.sol';                                                              |\n",
      "| import './Storage.sol';                                                              |\n",
      "|                                                                                      |\n",
      "| contract Registry is Storage, Ownable {                                              |\n",
      "|                                                                                      |\n",
      "|     address public logic_contract;                                                   |\n",
      "|                                                                                      |\n",
      "|     // admin to set contract                                                         |\n",
      "|     function setLogicContract(address _c) public onlyOwner returns (bool success){   |\n",
      "|         logic_contract = _c;                                                         |\n",
      "|         return true;                                                                 |\n",
      "|     }                                                                                |\n",
      "|                                                                                      |\n",
      "|     // fall back function                                                            |\n",
      "|     function () payable public {                                                     |\n",
      "|                                                                                      |\n",
      "|         address target = logic_contract;                                             |\n",
      "|                                                                                      |\n",
      "|         assembly {                                                                   |\n",
      "|             // Copy the data sent to the memory address starting free mem position   |\n",
      "|             let ptr := mload(0x40)                                                   |\n",
      "|             calldatacopy(ptr, 0, calldatasize)                                       |\n",
      "|                                                                                      |\n",
      "|             // Proxy the call to the contract address with the provided gas and data |\n",
      "|             let result := delegatecall(gas, target, ptr, calldatasize, 0, 0)         |\n",
      "|                                                                                      |\n",
      "|             // Copy the data returned by the proxied call to memory                  |\n",
      "|             let size := returndatasize                                               |\n",
      "|             returndatacopy(ptr, 0, size)                                             |\n",
      "|                                                                                      |\n",
      "|             // Check what the result is, return and revert accordingly               |\n",
      "|             switch result                                                            |\n",
      "|             case 0 { revert(ptr, size) }                                             |\n",
      "|             case 1 { return(ptr, size) }                                             |\n",
      "|         }                                                                            |\n",
      "|     }                                                                                |\n",
      "|                                                                                      |\n",
      "| }                                                                                    |\n",
      "+--------------------------------------------------------------------------------------+\n"
     ]
    }
   ],
   "source": [
    "%%bash\n",
    "cat ./Upgradable-Proxy-Smart-Contract/contracts/Storage.sol|boxes -d stone\n",
    "\n",
    "cat ./Upgradable-Proxy-Smart-Contract/contracts/Ownable.sol|boxes -d stone\n",
    "\n",
    "cat ./Upgradable-Proxy-Smart-Contract/contracts/Registry.sol|boxes -d stone"
   ]
  },
  {
   "cell_type": "code",
   "execution_count": null,
   "metadata": {},
   "outputs": [],
   "source": []
  },
  {
   "cell_type": "code",
   "execution_count": 9,
   "metadata": {},
   "outputs": [
    {
     "name": "stdout",
     "output_type": "stream",
     "text": [
      "gas used: 87,221\n",
      "Storage.sol Contract Address: 0x404396880D2461428A6DE506DB2A81D3e3b378B3\n",
      "gas used: 125,297\n",
      "Ownable.sol Contract Address: 0x679194A88E1545d9AD7C15f55631b795eE2754c2\n",
      "gas used: 246,928\n",
      "Registry.sol Contract Address: 0x283d5fc99060b20ABb15cc97a631A47C078EC388\n"
     ]
    }
   ],
   "source": [
    "w3.eth.defaultAccount = andrew\n",
    "for c in contracts_list:\n",
    "    name = c.split(\".\")[0]\n",
    "    compiled = compile_files([contracts_dir+c])\n",
    "    contracts = compiled[f'./Upgradable-Proxy-Smart-Contract/contracts/{name}.sol:{name}']\n",
    "    deployment = w3.eth.contract(abi = contracts['abi'],bytecode = contracts['bin'])\n",
    "    estimate_gas = deployment.constructor().estimateGas(transaction=None)\n",
    "    print(f'gas used: {estimate_gas:,}')\n",
    "    tx_hash = deployment.constructor().transact()\n",
    "    tx_receipt = w3.eth.waitForTransactionReceipt(tx_hash)\n",
    "    print(f\"{c} Contract Address: {tx_receipt.contractAddress}\")\n",
    "    with open(f\"{name}_abi.txt\",\"w\") as f:\n",
    "        json.dump(contracts['abi'],f)\n",
    "    with open(f\"{name}_bytecode.txt\",\"w\") as f:\n",
    "        f.write(contracts['bin'])\n",
    "    with open(f\"{name}_contracts.txt\",\"w\") as f:\n",
    "        f.write(tx_receipt.contractAddress)"
   ]
  },
  {
   "cell_type": "markdown",
   "metadata": {},
   "source": [
    "# Deploy LogicOne.sol"
   ]
  },
  {
   "cell_type": "code",
   "execution_count": 10,
   "metadata": {},
   "outputs": [
    {
     "name": "stdout",
     "output_type": "stream",
     "text": [
      "+----------------------------------------------------------------+\r\n",
      "| pragma solidity ^0.4.21;                                       |\r\n",
      "|                                                                |\r\n",
      "| import './Storage.sol';                                        |\r\n",
      "|                                                                |\r\n",
      "| contract LogicOne is Storage {                                 |\r\n",
      "|                                                                |\r\n",
      "|     function setVal(uint _val) public returns (bool success) { |\r\n",
      "|         val = 2 * _val;                                        |\r\n",
      "|         return true;                                           |\r\n",
      "|     }                                                          |\r\n",
      "|                                                                |\r\n",
      "| }                                                              |\r\n",
      "|                                                                |\r\n",
      "+----------------------------------------------------------------+\r\n"
     ]
    }
   ],
   "source": [
    "cat ./Upgradable-Proxy-Smart-Contract/contracts/LogicOne.sol|boxes -d stone"
   ]
  },
  {
   "cell_type": "code",
   "execution_count": 11,
   "metadata": {},
   "outputs": [
    {
     "name": "stdout",
     "output_type": "stream",
     "text": [
      "gas used: 108,159\n",
      "LogicOne.sol Contract Address: 0x5d6C2C139df2eb7d45817f8BE9f5A46261d72470\n"
     ]
    }
   ],
   "source": [
    "w3.eth.defaultAccount = yap\n",
    "c = \"LogicOne.sol\"\n",
    "name = c.split(\".\")[0]\n",
    "compiled = compile_files([contracts_dir+c])\n",
    "contracts = compiled[f'./Upgradable-Proxy-Smart-Contract/contracts/{name}.sol:{name}']\n",
    "deployment = w3.eth.contract(abi = contracts['abi'],bytecode = contracts['bin'])\n",
    "estimate_gas = deployment.constructor().estimateGas(transaction=None)\n",
    "print(f'gas used: {estimate_gas:,}')\n",
    "tx_hash = deployment.constructor().transact()\n",
    "tx_receipt = w3.eth.waitForTransactionReceipt(tx_hash)\n",
    "print(f\"{c} Contract Address: {tx_receipt.contractAddress}\")\n",
    "with open(f\"{name}_abi.txt\",\"w\") as f:\n",
    "    json.dump(contracts['abi'],f)\n",
    "with open(f\"{name}_bytecode.txt\",\"w\") as f:\n",
    "    f.write(contracts['bin'])\n",
    "with open(f\"{name}_contracts.txt\",\"w\") as f:\n",
    "    f.write(tx_receipt.contractAddress)"
   ]
  },
  {
   "cell_type": "code",
   "execution_count": 13,
   "metadata": {},
   "outputs": [
    {
     "data": {
      "text/plain": [
       "60"
      ]
     },
     "execution_count": 13,
     "metadata": {},
     "output_type": "execute_result"
    }
   ],
   "source": [
    "with open(\"LogicOne_contracts.txt\",\"r\") as f:\n",
    "    logicone_contract_address = f.read()\n",
    "with open(\"LogicOne_abi.txt\",\"r\") as f:\n",
    "    logicone_abi = f.read()\n",
    "logicone_contract = w3.eth.contract(address=logicone_contract_address,abi=logicone_abi)\n",
    "tx_hash = logicone_contract.functions.setVal(30).transact({'from':yap})\n",
    "tx_receipt = w3.eth.waitForTransactionReceipt(tx_hash)\n",
    "logicone_contract.functions.val().call()"
   ]
  },
  {
   "cell_type": "code",
   "execution_count": null,
   "metadata": {},
   "outputs": [],
   "source": []
  },
  {
   "cell_type": "markdown",
   "metadata": {},
   "source": [
    "# Register LogicOne deployed address in Registry.sol"
   ]
  },
  {
   "cell_type": "code",
   "execution_count": 14,
   "metadata": {},
   "outputs": [],
   "source": [
    "w3.eth.defaultAccount = andrew\n",
    "with open(\"Registry_contracts.txt\",\"r\") as f:\n",
    "    registry_contract_address = f.read()\n",
    "with open(\"Registry_abi.txt\",\"r\") as f:\n",
    "    registry_abi = f.read()\n",
    "registry_contract = w3.eth.contract(address=registry_contract_address,abi=registry_abi)\n",
    "[a for a in dir(registry_contract.functions) if a[0]!=\"_\"]\n",
    "with open(\"LogicOne_contracts.txt\",\"r\") as f:\n",
    "    logicone_contract_address = f.read()\n",
    "with open(\"LogicOne_abi.txt\",\"r\") as f:\n",
    "    logicone_abi = f.read()\n",
    "logicone_contract = w3.eth.contract(address=logicone_contract_address,abi=logicone_abi)\n",
    "tx_hash = registry_contract.functions.setLogicContract(logicone_contract_address).transact({\"from\":andrew})\n",
    "tx_receipt = w3.eth.waitForTransactionReceipt(tx_hash)"
   ]
  },
  {
   "cell_type": "code",
   "execution_count": 15,
   "metadata": {},
   "outputs": [
    {
     "data": {
      "text/plain": [
       "'0x5d6C2C139df2eb7d45817f8BE9f5A46261d72470'"
      ]
     },
     "execution_count": 15,
     "metadata": {},
     "output_type": "execute_result"
    }
   ],
   "source": [
    "registry_contract.functions.logic_contract().call()"
   ]
  },
  {
   "cell_type": "markdown",
   "metadata": {},
   "source": [
    "# Make transaction using Registry"
   ]
  },
  {
   "cell_type": "code",
   "execution_count": 14,
   "metadata": {},
   "outputs": [],
   "source": [
    "# with open(\"Registry_contracts.txt\",\"r\") as f:\n",
    "#     registry_contract_address = f.read()\n",
    "# with open(\"Registry_abi.txt\",\"r\") as f:\n",
    "#     registry_abi = f.read()\n",
    "# registry_contract = w3.eth.contract(address=registry_contract_address,abi=registry_abi)\n",
    "# print([a for a in dir(registry_contract.functions) if a[0]!=\"_\"])"
   ]
  },
  {
   "cell_type": "code",
   "execution_count": 16,
   "metadata": {},
   "outputs": [
    {
     "name": "stdout",
     "output_type": "stream",
     "text": [
      "0x3d4197f0000000000000000000000000000000000000000000000000000000000000000a\n"
     ]
    }
   ],
   "source": [
    "print(logicone_contract.encodeABI(fn_name=\"setVal\", args=[10]))"
   ]
  },
  {
   "cell_type": "code",
   "execution_count": 17,
   "metadata": {},
   "outputs": [
    {
     "data": {
      "text/plain": [
       "HexBytes('0x2584b4617c5ed3d40ec030174f494fb17c5f79922f16374b8603b7fec1020c5a')"
      ]
     },
     "execution_count": 17,
     "metadata": {},
     "output_type": "execute_result"
    }
   ],
   "source": [
    "w3.eth.sendTransaction({'to': registry_contract_address, 'from': yap, 'data':logicone_contract.functions.setVal(100)._encode_transaction_data()})"
   ]
  },
  {
   "cell_type": "code",
   "execution_count": 18,
   "metadata": {},
   "outputs": [
    {
     "data": {
      "text/plain": [
       "200"
      ]
     },
     "execution_count": 18,
     "metadata": {},
     "output_type": "execute_result"
    }
   ],
   "source": [
    "registry_contract.functions.val().call()"
   ]
  },
  {
   "cell_type": "markdown",
   "metadata": {},
   "source": [
    "# Deploy LogicTwo.sol"
   ]
  },
  {
   "cell_type": "code",
   "execution_count": 93,
   "metadata": {},
   "outputs": [
    {
     "name": "stdout",
     "output_type": "stream",
     "text": [
      "+----------------------------------------------------------------+\r\n",
      "| pragma solidity ^0.4.21;                                       |\r\n",
      "|                                                                |\r\n",
      "| import './LogicOne.sol';                                       |\r\n",
      "|                                                                |\r\n",
      "| contract LogicTwo is LogicOne {                                |\r\n",
      "|     function setVal(uint _val) public returns (bool success) { |\r\n",
      "|         val = 3 * _val;                                        |\r\n",
      "|         return true;                                           |\r\n",
      "|     }                                                          |\r\n",
      "| }                                                              |\r\n",
      "+----------------------------------------------------------------+\r\n"
     ]
    }
   ],
   "source": [
    "cat ./Upgradable-Proxy-Smart-Contract/contracts/LogicTwo.sol|boxes -d stone"
   ]
  },
  {
   "cell_type": "code",
   "execution_count": 19,
   "metadata": {},
   "outputs": [
    {
     "name": "stdout",
     "output_type": "stream",
     "text": [
      "gas used: 108,147\n",
      "LogicTwo.sol Contract Address: 0x20B89a19C9c0FdE7dC3e5bB9D78228b175701665\n"
     ]
    }
   ],
   "source": [
    "w3.eth.defaultAccount = yap\n",
    "c = \"LogicTwo.sol\"\n",
    "name = c.split(\".\")[0]\n",
    "compiled = compile_files([contracts_dir+c])\n",
    "contracts = compiled[f'./Upgradable-Proxy-Smart-Contract/contracts/{name}.sol:{name}']\n",
    "deployment = w3.eth.contract(abi = contracts['abi'],bytecode = contracts['bin'])\n",
    "estimate_gas = deployment.constructor().estimateGas(transaction=None)\n",
    "print(f'gas used: {estimate_gas:,}')\n",
    "tx_hash = deployment.constructor().transact()\n",
    "tx_receipt = w3.eth.waitForTransactionReceipt(tx_hash)\n",
    "print(f\"{c} Contract Address: {tx_receipt.contractAddress}\")\n",
    "with open(f\"{name}_abi.txt\",\"w\") as f:\n",
    "    json.dump(contracts['abi'],f)\n",
    "with open(f\"{name}_bytecode.txt\",\"w\") as f:\n",
    "    f.write(contracts['bin'])\n",
    "with open(f\"{name}_contracts.txt\",\"w\") as f:\n",
    "    f.write(tx_receipt.contractAddress)"
   ]
  },
  {
   "cell_type": "code",
   "execution_count": 20,
   "metadata": {},
   "outputs": [
    {
     "name": "stdout",
     "output_type": "stream",
     "text": [
      "AttributeDict({'transactionHash': HexBytes('0xe48e260d05871f33857acea22e779e0e81b91e6ba99decd9a4d87171d4046153'), 'transactionIndex': 0, 'blockHash': HexBytes('0x52fab2cf1334e7513ac88d8aa33e4952c24dba8edc2ec151f69d4b0f529cf4ee'), 'blockNumber': 10, 'from': '0x0aF3ADF2Ab81bF048ef12095CFAe721683742bcC', 'to': '0x20B89a19C9c0FdE7dC3e5bB9D78228b175701665', 'gasUsed': 41523, 'cumulativeGasUsed': 41523, 'contractAddress': None, 'logs': [], 'status': 1, 'logsBloom': HexBytes('0x00000000000000000000000000000000000000000000000000000000000000000000000000000000000000000000000000000000000000000000000000000000000000000000000000000000000000000000000000000000000000000000000000000000000000000000000000000000000000000000000000000000000000000000000000000000000000000000000000000000000000000000000000000000000000000000000000000000000000000000000000000000000000000000000000000000000000000000000000000000000000000000000000000000000000000000000000000000000000000000000000000000000000000000000000000000')})\n"
     ]
    },
    {
     "data": {
      "text/plain": [
       "30"
      ]
     },
     "execution_count": 20,
     "metadata": {},
     "output_type": "execute_result"
    }
   ],
   "source": [
    "with open(\"LogicTwo_contracts.txt\",\"r\") as f:\n",
    "    logictwo_contract_address = f.read()\n",
    "with open(\"LogicTwo_abi.txt\",\"r\") as f:\n",
    "    logictwo_abi = f.read()\n",
    "logictwo_contract = w3.eth.contract(address=logictwo_contract_address,abi=logictwo_abi)\n",
    "tx_hash = logictwo_contract.functions.setVal(10).transact({'from':yap})\n",
    "tx_receipt = w3.eth.waitForTransactionReceipt(tx_hash)\n",
    "print(tx_receipt)\n",
    "logictwo_contract.functions.val().call()"
   ]
  },
  {
   "cell_type": "markdown",
   "metadata": {},
   "source": [
    "# Register LogicTwo deployed address in Registry.sol"
   ]
  },
  {
   "cell_type": "code",
   "execution_count": 21,
   "metadata": {},
   "outputs": [
    {
     "data": {
      "text/plain": [
       "AttributeDict({'transactionHash': HexBytes('0x446765cb652983942d8ccf9d2454fbb537a7f272f1ce104136f94ae00e11e448'),\n",
       " 'transactionIndex': 0,\n",
       " 'blockHash': HexBytes('0x65564bca291421cd214b2abccbd43833225283d0e7e3128711d6d7fd12eb845e'),\n",
       " 'blockNumber': 11,\n",
       " 'from': '0x53A67e1Bae365929e609Bc811d38A10458518194',\n",
       " 'to': '0x283d5fc99060b20ABb15cc97a631A47C078EC388',\n",
       " 'gasUsed': 28500,\n",
       " 'cumulativeGasUsed': 28500,\n",
       " 'contractAddress': None,\n",
       " 'logs': [],\n",
       " 'status': 1,\n",
       " 'logsBloom': HexBytes('0x00000000000000000000000000000000000000000000000000000000000000000000000000000000000000000000000000000000000000000000000000000000000000000000000000000000000000000000000000000000000000000000000000000000000000000000000000000000000000000000000000000000000000000000000000000000000000000000000000000000000000000000000000000000000000000000000000000000000000000000000000000000000000000000000000000000000000000000000000000000000000000000000000000000000000000000000000000000000000000000000000000000000000000000000000000000')})"
      ]
     },
     "execution_count": 21,
     "metadata": {},
     "output_type": "execute_result"
    }
   ],
   "source": [
    "# w3.eth.defaultAccount = andrew\n",
    "# with open(\"Registry_contracts.txt\",\"r\") as f:\n",
    "#     registry_contract_address = f.read()\n",
    "# with open(\"Registry_abi.txt\",\"r\") as f:\n",
    "#     registry_abi = f.read()\n",
    "# registry_contract = w3.eth.contract(address=registry_contract_address,abi=registry_abi)\n",
    "# [a for a in dir(registry_contract.functions) if a[0]!=\"_\"]\n",
    "with open(\"LogicTwo_contracts.txt\",\"r\") as f:\n",
    "    logictwo_contract_address = f.read()\n",
    "with open(\"LogicTwo_abi.txt\",\"r\") as f:\n",
    "    logictwo_abi = f.read()\n",
    "logictwo_contract = w3.eth.contract(address=logictwo_contract_address,abi=logictwo_abi)\n",
    "tx_hash = registry_contract.functions.setLogicContract(logictwo_contract_address).transact({\"from\":andrew})\n",
    "tx_receipt = w3.eth.waitForTransactionReceipt(tx_hash)\n",
    "tx_receipt"
   ]
  },
  {
   "cell_type": "code",
   "execution_count": 22,
   "metadata": {},
   "outputs": [
    {
     "data": {
      "text/plain": [
       "'0x20B89a19C9c0FdE7dC3e5bB9D78228b175701665'"
      ]
     },
     "execution_count": 22,
     "metadata": {},
     "output_type": "execute_result"
    }
   ],
   "source": [
    "registry_contract.functions.logic_contract().call()"
   ]
  },
  {
   "cell_type": "markdown",
   "metadata": {},
   "source": [
    "# Make transaction using Registry"
   ]
  },
  {
   "cell_type": "code",
   "execution_count": 27,
   "metadata": {},
   "outputs": [
    {
     "name": "stdout",
     "output_type": "stream",
     "text": [
      "0x3d4197f0000000000000000000000000000000000000000000000000000000000000000a\n",
      "0x3d4197f0000000000000000000000000000000000000000000000000000000000000000a\n"
     ]
    }
   ],
   "source": [
    "print(logicone_contract.encodeABI(fn_name=\"setVal\", args=[10]))\n",
    "print(logictwo_contract.encodeABI(fn_name=\"setVal\", args=[10]))"
   ]
  },
  {
   "cell_type": "code",
   "execution_count": 87,
   "metadata": {},
   "outputs": [
    {
     "data": {
      "text/plain": [
       "'0x3d4197f0000000000000000000000000000000000000000000000000000000000000000a'"
      ]
     },
     "execution_count": 87,
     "metadata": {},
     "output_type": "execute_result"
    }
   ],
   "source": [
    "logictwo_contract.functions.setVal(10)._encode_transaction_data()"
   ]
  },
  {
   "cell_type": "code",
   "execution_count": 23,
   "metadata": {},
   "outputs": [],
   "source": [
    "# with open(\"Registry_contracts.txt\",\"r\") as f:\n",
    "#     registry_contract_address = f.read()\n",
    "# with open(\"Registry_abi.txt\",\"r\") as f:\n",
    "#     registry_abi = f.read()\n",
    "# registry_contract = w3.eth.contract(address=registry_contract_address,abi=registry_abi)\n",
    "# print([a for a in dir(registry_contract.functions) if a[0]!=\"_\"])\n"
   ]
  },
  {
   "cell_type": "code",
   "execution_count": 29,
   "metadata": {},
   "outputs": [
    {
     "data": {
      "text/plain": [
       "300"
      ]
     },
     "execution_count": 29,
     "metadata": {},
     "output_type": "execute_result"
    }
   ],
   "source": [
    "w3.eth.sendTransaction({'to': registry_contract_address, 'from': yap, 'data':logictwo_contract.functions.setVal(100)._encode_transaction_data()})\n",
    "registry_contract.functions.val().call()"
   ]
  },
  {
   "cell_type": "code",
   "execution_count": 24,
   "metadata": {},
   "outputs": [
    {
     "data": {
      "text/plain": [
       "120"
      ]
     },
     "execution_count": 24,
     "metadata": {},
     "output_type": "execute_result"
    }
   ],
   "source": [
    "w3.eth.sendTransaction({'to': registry_contract_address, 'from': yap, 'data':logicone_contract.encodeABI(fn_name=\"setVal\", args=[40])})\n",
    "registry_contract.functions.val().call()"
   ]
  },
  {
   "cell_type": "markdown",
   "metadata": {},
   "source": [
    "# Storage.sol"
   ]
  },
  {
   "cell_type": "code",
   "execution_count": 42,
   "metadata": {},
   "outputs": [
    {
     "data": {
      "text/plain": [
       "0"
      ]
     },
     "execution_count": 42,
     "metadata": {},
     "output_type": "execute_result"
    }
   ],
   "source": [
    "with open(\"Storage_contracts.txt\",\"r\") as f:\n",
    "    storage_contract_address = f.read()\n",
    "with open(\"Storage_abi.txt\",\"r\") as f:\n",
    "    storage_abi = f.read()\n",
    "storage_contract = w3.eth.contract(address=storage_contract_address,abi=storage_abi)\n",
    "storage_contract.functions.val().call()"
   ]
  },
  {
   "cell_type": "code",
   "execution_count": null,
   "metadata": {},
   "outputs": [],
   "source": []
  },
  {
   "cell_type": "code",
   "execution_count": null,
   "metadata": {},
   "outputs": [],
   "source": []
  }
 ],
 "metadata": {
  "kernelspec": {
   "display_name": "Python 3",
   "language": "python",
   "name": "python3"
  },
  "language_info": {
   "codemirror_mode": {
    "name": "ipython",
    "version": 3
   },
   "file_extension": ".py",
   "mimetype": "text/x-python",
   "name": "python",
   "nbconvert_exporter": "python",
   "pygments_lexer": "ipython3",
   "version": "3.8.2"
  }
 },
 "nbformat": 4,
 "nbformat_minor": 4
}
