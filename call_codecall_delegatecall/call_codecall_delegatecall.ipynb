{
 "cells": [
  {
   "cell_type": "markdown",
   "metadata": {},
   "source": [
    "https://ethereum.stackexchange.com/questions/3667/difference-between-call-callcode-and-delegatecall"
   ]
  },
  {
   "cell_type": "code",
   "execution_count": 1,
   "metadata": {},
   "outputs": [],
   "source": [
    "import web3\n",
    "from web3 import Web3, EthereumTesterProvider\n",
    "import json\n",
    "import random\n",
    "import time\n",
    "from solcx import compile_files,get_solc_version,get_installed_solc_versions, set_solc_version,compile_source\n",
    "import os"
   ]
  },
  {
   "cell_type": "markdown",
   "metadata": {},
   "source": [
    "uncomment if you need to install solc"
   ]
  },
  {
   "cell_type": "code",
   "execution_count": 2,
   "metadata": {},
   "outputs": [],
   "source": [
    "# from solcx import install_solc\n",
    "# install_solc('v0.5.8')"
   ]
  },
  {
   "cell_type": "code",
   "execution_count": 3,
   "metadata": {},
   "outputs": [
    {
     "data": {
      "text/plain": [
       "['v0.4.21', 'v0.4.25', 'v0.5.8', 'v0.6.10', 'v0.6.12', 'v0.6.9', 'v0.7.0']"
      ]
     },
     "execution_count": 3,
     "metadata": {},
     "output_type": "execute_result"
    }
   ],
   "source": [
    "get_installed_solc_versions()"
   ]
  },
  {
   "cell_type": "code",
   "execution_count": 4,
   "metadata": {},
   "outputs": [],
   "source": [
    "set_solc_version('v0.4.25')"
   ]
  },
  {
   "cell_type": "markdown",
   "metadata": {},
   "source": [
    "# Contracts"
   ]
  },
  {
   "cell_type": "code",
   "execution_count": 5,
   "metadata": {},
   "outputs": [],
   "source": [
    "contracts = '''\n",
    "\n",
    "contract Caller {\n",
    "  uint public n;\n",
    "  address public sender;\n",
    "\n",
    "  function callSetN(address _e, uint _n) {\n",
    "    _e.call(bytes4(sha3(\"setN(uint256)\")), _n); // Caller is not modified, Target's storage is set\n",
    "  }\n",
    "\n",
    "  function callcodeSetN(address _e, uint _n) {\n",
    "    _e.callcode(bytes4(sha3(\"setN(uint256)\")), _n); // Caller's storage is set, Target is not modified \n",
    "  }\n",
    "\n",
    "  function delegatecallSetN(address _e, uint _n) {\n",
    "    _e.delegatecall(bytes4(sha3(\"setN(uint256)\")), _n); // Caller's storage is set, Target is not modified \n",
    "  }\n",
    "}\n",
    "\n",
    "contract Target {\n",
    "  uint public n;\n",
    "  address public sender;\n",
    "\n",
    "  function setN(uint _n) {\n",
    "    n = _n;\n",
    "    sender = msg.sender;\n",
    "  }\n",
    "}\n",
    "\n",
    "'''"
   ]
  },
  {
   "cell_type": "markdown",
   "metadata": {},
   "source": [
    "# Connect to Eth"
   ]
  },
  {
   "cell_type": "code",
   "execution_count": 6,
   "metadata": {},
   "outputs": [
    {
     "name": "stdout",
     "output_type": "stream",
     "text": [
      "Connection: True\n"
     ]
    }
   ],
   "source": [
    "w3 = Web3(EthereumTesterProvider())\n",
    "print(\"Connection:\",w3.isConnected())\n",
    "manager = w3.eth.accounts[0]\n",
    "w3.eth.defaultAccount = manager"
   ]
  },
  {
   "cell_type": "markdown",
   "metadata": {},
   "source": [
    "# Compile Contracts"
   ]
  },
  {
   "cell_type": "code",
   "execution_count": 7,
   "metadata": {},
   "outputs": [],
   "source": [
    "compiled = compile_source(contracts)"
   ]
  },
  {
   "cell_type": "markdown",
   "metadata": {},
   "source": [
    "# Deploy Caller Contract"
   ]
  },
  {
   "cell_type": "code",
   "execution_count": 8,
   "metadata": {},
   "outputs": [
    {
     "name": "stdout",
     "output_type": "stream",
     "text": [
      "caller_address 0xF2E246BB76DF876Cef8b38ae84130F4F55De395b\n"
     ]
    }
   ],
   "source": [
    "tx_hash = w3.eth.contract(abi = compiled['<stdin>:Caller']['abi'],\n",
    "                          bytecode = compiled['<stdin>:Caller']['bin']).constructor().transact()\n",
    "tx_receipt = w3.eth.waitForTransactionReceipt(tx_hash)\n",
    "caller_address = tx_receipt.contractAddress\n",
    "print(\"caller_address\",caller_address)\n",
    "caller_contract = w3.eth.contract(address=caller_address,abi=compiled['<stdin>:Caller']['abi'])"
   ]
  },
  {
   "cell_type": "markdown",
   "metadata": {},
   "source": [
    "# Deploy Target Contract"
   ]
  },
  {
   "cell_type": "code",
   "execution_count": 9,
   "metadata": {},
   "outputs": [
    {
     "name": "stdout",
     "output_type": "stream",
     "text": [
      "target_address 0x2946259E0334f33A064106302415aD3391BeD384\n"
     ]
    }
   ],
   "source": [
    "tx_hash = w3.eth.contract(abi = compiled['<stdin>:Target']['abi'],\n",
    "                          bytecode = compiled['<stdin>:Target']['bin']).constructor().transact()\n",
    "tx_receipt = w3.eth.waitForTransactionReceipt(tx_hash)\n",
    "target_address = tx_receipt.contractAddress\n",
    "print(\"target_address\",target_address)\n",
    "target_contract = w3.eth.contract(address=target_address,abi=compiled['<stdin>:Target']['abi'])"
   ]
  },
  {
   "cell_type": "markdown",
   "metadata": {},
   "source": [
    "# Call"
   ]
  },
  {
   "cell_type": "code",
   "execution_count": 10,
   "metadata": {},
   "outputs": [
    {
     "name": "stdout",
     "output_type": "stream",
     "text": [
      "gasUsed 63899\n",
      "account 0x6813Eb9362372EEF6200f3b1dbC3f819671cBA69\n",
      "balance 1000000000000000000000000\n",
      "caller_contract.n 0\n",
      "caller_contract.sender 0x0000000000000000000000000000000000000000\n",
      "target_contract.n 50\n",
      "target_contract.sender 0xF2E246BB76DF876Cef8b38ae84130F4F55De395b\n"
     ]
    }
   ],
   "source": [
    "tx_hash = caller_contract.functions.callSetN(target_address,50).transact({'from':w3.eth.accounts[1]})\n",
    "tx_receipt = w3.eth.waitForTransactionReceipt(tx_hash)\n",
    "print(\"gasUsed\",tx_receipt.gasUsed)\n",
    "print(\"account\",w3.eth.accounts[2])\n",
    "print(\"balance\",w3.eth.getBalance(w3.eth.accounts[2]))\n",
    "print(\"caller_contract.n\",caller_contract.functions.n().call())\n",
    "print(\"caller_contract.sender\",caller_contract.functions.sender().call())\n",
    "print(\"target_contract.n\",target_contract.functions.n().call())\n",
    "print(\"target_contract.sender\",target_contract.functions.sender().call())"
   ]
  },
  {
   "cell_type": "markdown",
   "metadata": {},
   "source": [
    "# Codecall"
   ]
  },
  {
   "cell_type": "code",
   "execution_count": 11,
   "metadata": {},
   "outputs": [
    {
     "name": "stdout",
     "output_type": "stream",
     "text": [
      "gasUsed 63811\n",
      "account 0x6813Eb9362372EEF6200f3b1dbC3f819671cBA69\n",
      "balance 999999999999999999936189\n",
      "caller_contract.n 20\n",
      "caller_contract.sender 0xF2E246BB76DF876Cef8b38ae84130F4F55De395b\n",
      "target_contract.n 50\n",
      "target_contract.sender 0xF2E246BB76DF876Cef8b38ae84130F4F55De395b\n"
     ]
    }
   ],
   "source": [
    "tx_hash = caller_contract.functions.callcodeSetN(target_address,20).transact({'from':w3.eth.accounts[2]})\n",
    "tx_receipt = w3.eth.waitForTransactionReceipt(tx_hash)\n",
    "print(\"gasUsed\",tx_receipt.gasUsed)\n",
    "print(\"account\",w3.eth.accounts[2])\n",
    "print(\"balance\",w3.eth.getBalance(w3.eth.accounts[2]))\n",
    "print(\"caller_contract.n\",caller_contract.functions.n().call())\n",
    "print(\"caller_contract.sender\",caller_contract.functions.sender().call())\n",
    "print(\"target_contract.n\",target_contract.functions.n().call())\n",
    "print(\"target_contract.sender\",target_contract.functions.sender().call())"
   ]
  },
  {
   "cell_type": "markdown",
   "metadata": {},
   "source": [
    "# Delegatecall"
   ]
  },
  {
   "cell_type": "code",
   "execution_count": 12,
   "metadata": {},
   "outputs": [
    {
     "name": "stdout",
     "output_type": "stream",
     "text": [
      "gasUsed 33874\n",
      "account 0x6813Eb9362372EEF6200f3b1dbC3f819671cBA69\n",
      "balance 999999999999999999902315\n",
      "caller_contract.n 90\n",
      "caller_contract.sender 0x6813Eb9362372EEF6200f3b1dbC3f819671cBA69\n",
      "target_contract.n 50\n",
      "target_contract.sender 0xF2E246BB76DF876Cef8b38ae84130F4F55De395b\n"
     ]
    }
   ],
   "source": [
    "tx_hash = caller_contract.functions.delegatecallSetN(target_address,90).transact({'from':w3.eth.accounts[2]})\n",
    "tx_receipt = w3.eth.waitForTransactionReceipt(tx_hash)\n",
    "print(\"gasUsed\",tx_receipt.gasUsed)\n",
    "print(\"account\",w3.eth.accounts[2])\n",
    "print(\"balance\",w3.eth.getBalance(w3.eth.accounts[2]))\n",
    "print(\"caller_contract.n\",caller_contract.functions.n().call())\n",
    "print(\"caller_contract.sender\",caller_contract.functions.sender().call())\n",
    "print(\"target_contract.n\",target_contract.functions.n().call())\n",
    "print(\"target_contract.sender\",target_contract.functions.sender().call())"
   ]
  },
  {
   "cell_type": "code",
   "execution_count": null,
   "metadata": {},
   "outputs": [],
   "source": []
  },
  {
   "cell_type": "code",
   "execution_count": null,
   "metadata": {},
   "outputs": [],
   "source": []
  },
  {
   "cell_type": "code",
   "execution_count": null,
   "metadata": {},
   "outputs": [],
   "source": []
  },
  {
   "cell_type": "code",
   "execution_count": null,
   "metadata": {},
   "outputs": [],
   "source": []
  },
  {
   "cell_type": "code",
   "execution_count": null,
   "metadata": {},
   "outputs": [],
   "source": []
  }
 ],
 "metadata": {
  "kernelspec": {
   "display_name": "Python 3",
   "language": "python",
   "name": "python3"
  },
  "language_info": {
   "codemirror_mode": {
    "name": "ipython",
    "version": 3
   },
   "file_extension": ".py",
   "mimetype": "text/x-python",
   "name": "python",
   "nbconvert_exporter": "python",
   "pygments_lexer": "ipython3",
   "version": "3.8.2"
  }
 },
 "nbformat": 4,
 "nbformat_minor": 4
}
